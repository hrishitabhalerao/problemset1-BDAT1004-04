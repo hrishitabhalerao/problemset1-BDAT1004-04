{
 "cells": [
  {
   "cell_type": "code",
   "execution_count": 1,
   "id": "d69e4084",
   "metadata": {},
   "outputs": [],
   "source": [
    "# question 6 .vowels\n",
    "vowels = ['a','e','i','o','u']\n",
    "def pig(word):\n",
    "    \n",
    "    #checking if the word starts with vowel or not\n",
    "    if word[0].lower() in vowels:\n",
    "        print(word.lower() + 'way')\n",
    "    else:\n",
    "        first_letter = word[0]\n",
    "        print(word[1:].lower()+first_letter.lower()+'ay')"
   ]
  },
  {
   "cell_type": "code",
   "execution_count": 2,
   "id": "c29b9ab1",
   "metadata": {},
   "outputs": [
    {
     "name": "stdout",
     "output_type": "stream",
     "text": [
      "appyhay\n"
     ]
    }
   ],
   "source": [
    "pig('happy')"
   ]
  },
  {
   "cell_type": "code",
   "execution_count": 3,
   "id": "ce4067ff",
   "metadata": {},
   "outputs": [
    {
     "name": "stdout",
     "output_type": "stream",
     "text": [
      "enterway\n"
     ]
    }
   ],
   "source": [
    "pig('enter')"
   ]
  },
  {
   "cell_type": "code",
   "execution_count": 18,
   "id": "12b2536a",
   "metadata": {},
   "outputs": [],
   "source": [
    "# question 7.bloodtype\n",
    "\n",
    "def bldcount( filename):\n",
    "    \n",
    "    x = open( filename,'r')\n",
    "    words = x.readline()\n",
    "    lst = []\n",
    "    blood_types = ['A','B','AB','O','OO']\n",
    "    \n",
    "    lst.append(words.split(\" \"))\n",
    "    \n",
    "    for blood_type in blood_types:\n",
    "        print(\"There are {} patients of blood type {}.\".format(lst[0].count(blood_type),blood_type))"
   ]
  },
  {
   "cell_type": "code",
   "execution_count": null,
   "id": "90b6bbcd",
   "metadata": {},
   "outputs": [],
   "source": []
  },
  {
   "cell_type": "code",
   "execution_count": 14,
   "id": "3f3a4830",
   "metadata": {},
   "outputs": [],
   "source": [
    "# question 8 .currency\n",
    "\n",
    "def curconv(currency,amount):\n",
    "    currencies = {}\n",
    "    \n",
    "    #reading the file\n",
    "    cur_file = open('currencies.txt')\n",
    "    lines = cur_file.readlines()\n",
    "    \n",
    "    #storing the currency in the key and it's corresponding $ value and name in value.\n",
    "    for x in lines:\n",
    "        currencies[x[:3].strip()] = x[4:].split(\"\\t\")\n",
    "    value = currencies[currency][0].strip()\n",
    "    print(amount * float(value))"
   ]
  },
  {
   "cell_type": "code",
   "execution_count": null,
   "id": "5c7962e8",
   "metadata": {},
   "outputs": [],
   "source": []
  },
  {
   "cell_type": "code",
   "execution_count": 21,
   "id": "fed087e7",
   "metadata": {},
   "outputs": [],
   "source": [
    "# question 10.freequencies\n",
    "\n",
    "def frequencies(text):\n",
    "    \n",
    "    #set of alphabets\n",
    "    alphabets = ('a','b','c','d','e','f','g','h','i','j','k','l','m','n','o','p','q','r','s','t','u','v','w','x','y','z')\n",
    "    total_characters = []\n",
    "    alpha_dict = {}\n",
    "    #picking character from every word of input and appending it to total_character list.\n",
    "    for word in text:\n",
    "        for char in word:\n",
    "            if char.isalpha():\n",
    "                total_characters.append(char)\n",
    "    #checking if the alphabet is present in the total_character list than assigning it it's count otherwise 0\n",
    "    for char in alphabets:\n",
    "        if char in total_characters:\n",
    "            alpha_dict[char] = total_characters.count(char)\n",
    "        else:\n",
    "            alpha_dict[char] = 0\n",
    "            \n",
    "    #printing out the values(count) of the alphabets present in the total_character list\n",
    "    print(list(alpha_dict.values()))"
   ]
  },
  {
   "cell_type": "code",
   "execution_count": 22,
   "id": "4a310bac",
   "metadata": {},
   "outputs": [
    {
     "name": "stdout",
     "output_type": "stream",
     "text": [
      "[1, 1, 1, 3, 5, 1, 1, 2, 1, 0, 1, 0, 1, 2, 4, 0, 1, 2, 0, 2, 1, 0, 1, 1, 0, 0]\n"
     ]
    }
   ],
   "source": [
    "frequencies('The quick red fox got bored and went home.')"
   ]
  },
  {
   "cell_type": "code",
   "execution_count": 23,
   "id": "6978c916",
   "metadata": {},
   "outputs": [
    {
     "name": "stdout",
     "output_type": "stream",
     "text": [
      "[1, 0, 0, 0, 1, 0, 0, 0, 0, 0, 0, 1, 0, 0, 0, 2, 0, 0, 0, 0, 0, 0, 0, 0, 0, 0]\n"
     ]
    }
   ],
   "source": [
    "frequencies('apple')"
   ]
  },
  {
   "cell_type": "code",
   "execution_count": null,
   "id": "1fea987d",
   "metadata": {},
   "outputs": [],
   "source": []
  }
 ],
 "metadata": {
  "kernelspec": {
   "display_name": "Python 3 (ipykernel)",
   "language": "python",
   "name": "python3"
  },
  "language_info": {
   "codemirror_mode": {
    "name": "ipython",
    "version": 3
   },
   "file_extension": ".py",
   "mimetype": "text/x-python",
   "name": "python",
   "nbconvert_exporter": "python",
   "pygments_lexer": "ipython3",
   "version": "3.9.12"
  }
 },
 "nbformat": 4,
 "nbformat_minor": 5
}
